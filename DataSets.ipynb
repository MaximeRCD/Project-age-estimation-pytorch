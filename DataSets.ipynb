{
 "cells": [
  {
   "cell_type": "code",
   "execution_count": null,
   "id": "ca229857",
   "metadata": {},
   "outputs": [],
   "source": [
    "# pip install imgaug"
   ]
  },
  {
   "cell_type": "code",
   "execution_count": 10,
   "id": "f17ce774",
   "metadata": {},
   "outputs": [],
   "source": [
    "from pathlib import Path\n",
    "import numpy as np\n",
    "import pandas as pd\n",
    "import torch\n",
    "import cv2\n",
    "from torch.utils.data import Dataset, DataLoader\n",
    "\n",
    "\n",
    "from imgaug import augmenters as iaa\n"
   ]
  },
  {
   "cell_type": "code",
   "execution_count": 11,
   "id": "0f75c261",
   "metadata": {},
   "outputs": [],
   "source": [
    "class ImgAugTransform:\n",
    "    def __init__(self):\n",
    "        self.aug = iaa.Sequential([\n",
    "            iaa.OneOf([\n",
    "                iaa.Sometimes(0.25, iaa.AdditiveGaussianNoise(scale=0.1 * 255)),\n",
    "                iaa.Sometimes(0.25, iaa.GaussianBlur(sigma=(0, 3.0)))\n",
    "                ]),\n",
    "            iaa.Affine(\n",
    "                rotate=(-20, 20), mode=\"edge\",\n",
    "                scale={\"x\": (0.95, 1.05), \"y\": (0.95, 1.05)},\n",
    "                translate_percent={\"x\": (-0.05, 0.05), \"y\": (-0.05, 0.05)}\n",
    "            ),\n",
    "            iaa.AddToHueAndSaturation(value=(-10, 10), per_channel=True),\n",
    "            iaa.GammaContrast((0.3, 2)),\n",
    "            iaa.Fliplr(0.5),\n",
    "        ])\n",
    "\n",
    "    def __call__(self, img):\n",
    "        img = np.array(img)\n",
    "        img = self.aug.augment_image(img)\n",
    "        return img"
   ]
  },
  {
   "cell_type": "code",
   "execution_count": 12,
   "id": "047f7843",
   "metadata": {},
   "outputs": [],
   "source": [
    "class FaceDataset(Dataset):\n",
    "    def __init__(self, data_dir, data_type, img_size=224, augment=False, age_stddev=1.0):\n",
    "        assert(data_type in (\"train\", \"valid\", \"test\"))\n",
    "        csv_path = Path(data_dir).joinpath(f\"gt_avg_{data_type}.csv\")\n",
    "        img_dir = Path(data_dir).joinpath(data_type)\n",
    "        self.img_size = img_size\n",
    "        self.augment = augment\n",
    "        self.age_stddev = age_stddev\n",
    "\n",
    "        if augment:\n",
    "            self.transform = ImgAugTransform()\n",
    "        else:\n",
    "            self.transform = lambda i: i\n",
    "\n",
    "        self.x = []\n",
    "        self.y = []\n",
    "        self.std = []\n",
    "        df = pd.read_csv(str(csv_path))\n",
    "        ignore_path = Path(\"./\").resolve().joinpath(\"ignore_list.csv\")\n",
    "        ignore_img_names = list(pd.read_csv(str(ignore_path))[\"img_name\"].values)\n",
    "\n",
    "        for _, row in df.iterrows():\n",
    "            img_name = row[\"file_name\"]\n",
    "\n",
    "            if img_name in ignore_img_names:\n",
    "                continue\n",
    "\n",
    "            img_path = img_dir.joinpath(img_name + \"_face.jpg\")\n",
    "            assert(img_path.is_file())\n",
    "            self.x.append(str(img_path))\n",
    "            self.y.append(row[\"apparent_age_avg\"])\n",
    "            self.std.append(row[\"apparent_age_std\"])\n",
    "\n",
    "    def __len__(self):\n",
    "        return len(self.y)\n",
    "\n",
    "    def __getitem__(self, idx):\n",
    "        img_path = self.x[idx]\n",
    "        age = self.y[idx]\n",
    "\n",
    "        if self.augment:\n",
    "            age += np.random.randn() * self.std[idx] * self.age_stddev\n",
    "\n",
    "        img = cv2.imread(str(img_path), 1)\n",
    "        img = cv2.resize(img, (self.img_size, self.img_size))\n",
    "        img = self.transform(img).astype(np.float32)\n",
    "        return torch.from_numpy(np.transpose(img, (2, 0, 1))), np.clip(round(age), 0, 100)\n"
   ]
  },
  {
   "cell_type": "code",
   "execution_count": 13,
   "id": "d3142c1b",
   "metadata": {},
   "outputs": [
    {
     "name": "stdout",
     "output_type": "stream",
     "text": [
      "train dataset len: 3995\n",
      "valid dataset len: 1500\n",
      "test dataset len: 1978\n"
     ]
    }
   ],
   "source": [
    "dataset = FaceDataset(\"./appa-real-release/\", \"train\")\n",
    "print(\"train dataset len: {}\".format(len(dataset)))\n",
    "dataset = FaceDataset(\"./appa-real-release/\", \"valid\")\n",
    "print(\"valid dataset len: {}\".format(len(dataset)))\n",
    "dataset = FaceDataset(\"./appa-real-release/\", \"test\")\n",
    "print(\"test dataset len: {}\".format(len(dataset)))"
   ]
  },
  {
   "cell_type": "code",
   "execution_count": 20,
   "id": "aade687e",
   "metadata": {},
   "outputs": [],
   "source": [
    "train_dataset = FaceDataset(\"./appa-real-release/\", \"train\", augment=True, age_stddev=1.0)\n",
    "train_loader = DataLoader(train_dataset, batch_size=128, shuffle=True, drop_last=True)\n",
    "\n",
    "val_dataset = FaceDataset(\"./appa-real-release/\", \"valid\", augment=False)\n",
    "val_loader = DataLoader(val_dataset, batch_size=128, shuffle=False, drop_last=False)\n",
    "\n",
    "test_dataset = FaceDataset(\"./appa-real-release/\", \"test\", augment=False)\n",
    "test_loader = DataLoader(test_dataset, batch_size=1, shuffle=False, drop_last=False)"
   ]
  },
  {
   "cell_type": "code",
   "execution_count": 26,
   "id": "d11e0e11",
   "metadata": {},
   "outputs": [
    {
     "name": "stdout",
     "output_type": "stream",
     "text": [
      "torch.float32\n"
     ]
    }
   ],
   "source": [
    "for (x, y) in test_loader:\n",
    "    print(x.dtype)\n",
    "    break"
   ]
  },
  {
   "cell_type": "code",
   "execution_count": null,
   "id": "a4fb6708",
   "metadata": {},
   "outputs": [],
   "source": []
  }
 ],
 "metadata": {
  "kernelspec": {
   "display_name": "Python 3 (ipykernel)",
   "language": "python",
   "name": "python3"
  },
  "language_info": {
   "codemirror_mode": {
    "name": "ipython",
    "version": 3
   },
   "file_extension": ".py",
   "mimetype": "text/x-python",
   "name": "python",
   "nbconvert_exporter": "python",
   "pygments_lexer": "ipython3",
   "version": "3.9.7"
  }
 },
 "nbformat": 4,
 "nbformat_minor": 5
}
